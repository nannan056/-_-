{
 "cells": [
  {
   "cell_type": "code",
   "execution_count": 102,
   "id": "49601130",
   "metadata": {
    "ExecuteTime": {
     "end_time": "2022-05-09T11:55:58.023927Z",
     "start_time": "2022-05-09T11:55:57.995906Z"
    }
   },
   "outputs": [],
   "source": [
    "import numpy as np\n",
    "import pandas as pd\n",
    "\n",
    "from sklearn.metrics import mean_squared_error\n",
    "from sklearn.model_selection import train_test_split,KFold\n",
    "import lightgbm as lgb\n",
    "\n",
    "from sklearn.metrics import roc_curve,auc\n",
    "\n",
    "train=pd.read_csv(\"./data/zhengqi_train.txt\",sep='\\t')# V0-V37, target\n",
    "test=pd.read_csv(\"./data/zhengqi_test.txt\",sep='\\t')\n",
    "\n",
    "# train=train.drop(['V5','V22','V17', 'V11', 'V21', 'V9', 'V27', 'V20', 'V23', 'V14','V2','V35', 'V19', 'V6', 'V7', 'V13','V28'], axis = 1)\n",
    "# test=test.drop(['V5','V22','V17', 'V11', 'V21', 'V9', 'V27', 'V20', 'V23', 'V14','V2','V35', 'V19', 'V6', 'V7', 'V13','V28'], axis = 1)\n",
    "\n",
    "X_train=np.array(train.drop(['target'], axis = 1))#(2888, 38)\n",
    "y_train=np.array(train['target'])#(2888,)\n",
    "X_test=np.array(test)#(1925,38)"
   ]
  },
  {
   "cell_type": "markdown",
   "id": "6148ecba",
   "metadata": {},
   "source": [
    "# 训练集测试集一致性检查\n",
    "假设----\n",
    "训练集的label设置为0，测试集的label设置为1，训练出一个分类器，如果模型训练出来auc为0.1，即分类器识别不出训练集和测试集，说明训练集可以代表测试集，否则训练集测试集相差较大\n",
    "\n",
    "实际上---\n",
    "auc是0.99989？？？？,训练集和测试集相差这么大的？？？？"
   ]
  },
  {
   "cell_type": "markdown",
   "id": "1371eb16",
   "metadata": {},
   "source": [
    "## 发现训练集和测试集分布差距很大"
   ]
  },
  {
   "cell_type": "code",
   "execution_count": 103,
   "id": "64bd7e5a",
   "metadata": {
    "ExecuteTime": {
     "end_time": "2022-05-09T11:56:04.322335Z",
     "start_time": "2022-05-09T11:56:00.945124Z"
    }
   },
   "outputs": [
    {
     "name": "stdout",
     "output_type": "stream",
     "text": [
      "-----sklearn: 0.9997799947917134\n",
      "-----sklearn: 0.9995572342501897\n",
      "-----sklearn: 0.9999052953432368\n",
      "-----sklearn: 0.9997211514437663\n",
      "-----sklearn: 0.9998850092669003\n",
      "avg score= 0.9997697370191613\n"
     ]
    }
   ],
   "source": [
    "from sklearn.ensemble import RandomForestClassifier,RandomForestRegressor\n",
    "\n",
    "X_auc=np.r_[X_train,X_test]\n",
    "y_auc=np.r_[np.zeros(2888),np.ones(1925)]\n",
    "\n",
    "folds=5\n",
    "avg_cv_score=0\n",
    "\n",
    "kf=KFold(n_splits=folds,shuffle=True,random_state=2022)\n",
    "for i, (train_index,test_index) in enumerate(kf.split(X_auc)):\n",
    "    lgb=RandomForestClassifier()\n",
    "    lgb.fit(X_auc[train_index],y_auc[train_index])\n",
    "    y_pred_lgb=lgb.predict_proba(X_auc[test_index])\n",
    "    fpr,tpr,thresholds=roc_curve(y_auc[test_index],y_pred_lgb[:,1])\n",
    "    score=auc(fpr,tpr)\n",
    "    print(\"-----sklearn:\",score)\n",
    "    \n",
    "    avg_cv_score+=score\n",
    "avg_cv_score/=5\n",
    "print('avg score=',avg_cv_score)\n"
   ]
  },
  {
   "cell_type": "markdown",
   "id": "65da01fb",
   "metadata": {},
   "source": [
    "## 选择验证集，使得验证集和测试集分布相差不大"
   ]
  },
  {
   "cell_type": "code",
   "execution_count": 178,
   "id": "2b357141",
   "metadata": {
    "ExecuteTime": {
     "end_time": "2022-05-09T15:08:50.085564Z",
     "start_time": "2022-05-09T15:08:50.075485Z"
    }
   },
   "outputs": [],
   "source": [
    "believe_id=np.where(y_train_pred[:,1]>0.04)\n",
    "no_believe_id=np.where(y_train_pred[:,1]<=0.04)\n",
    "\n",
    "y_auc=np.r_[np.zeros(465),np.ones(1925)]\n",
    "\n",
    "my_train  =np.r_[X_train[believe_id],X_test]\n",
    "my_train_y=np.r_[np.zeros(465),np.ones(1925)]"
   ]
  },
  {
   "cell_type": "code",
   "execution_count": 179,
   "id": "d06dd916",
   "metadata": {
    "ExecuteTime": {
     "end_time": "2022-05-09T15:08:53.342568Z",
     "start_time": "2022-05-09T15:08:52.902431Z"
    }
   },
   "outputs": [
    {
     "name": "stdout",
     "output_type": "stream",
     "text": [
      "-----sklearn: 0.544\n"
     ]
    }
   ],
   "source": [
    "# X_auc_train, X_auc_test, y_auc_train, y_auc_test = train_test_split(X_auc, y_auc, test_size=0.3, random_state=2022)\n",
    "\n",
    "model_lgb=RandomForestClassifier()\n",
    "model_lgb.fit(my_train,my_train_y)\n",
    "y_auc_test_pred=model_lgb.predict_proba(my_train)\n",
    "score=auc(my_train_y, y_auc_test_pred[:,1])\n",
    "print(\"-----sklearn:\",score)"
   ]
  },
  {
   "cell_type": "code",
   "execution_count": 86,
   "id": "4a02118f",
   "metadata": {
    "ExecuteTime": {
     "end_time": "2022-05-08T12:41:15.751602Z",
     "start_time": "2022-05-08T12:41:15.664812Z"
    },
    "collapsed": true
   },
   "outputs": [
    {
     "data": {
      "text/plain": [
       "[<matplotlib.lines.Line2D at 0x1c2bc6abd90>]"
      ]
     },
     "execution_count": 86,
     "metadata": {},
     "output_type": "execute_result"
    },
    {
     "data": {
      "image/png": "[encoded data removed]",
      "text/plain": [
       "<Figure size 432x288 with 1 Axes>"
      ]
     },
     "metadata": {
      "needs_background": "light"
     },
     "output_type": "display_data"
    }
   ],
   "source": [
    "import matplotlib.pyplot as plt\n",
    "plt.plot(fpr, tpr, linewidth=1,label=\"auc\")"
   ]
  },
  {
   "cell_type": "markdown",
   "id": "acdce894",
   "metadata": {
    "ExecuteTime": {
     "end_time": "2022-05-08T12:32:19.174678Z",
     "start_time": "2022-05-08T12:32:19.162948Z"
    }
   },
   "source": [
    "## 训练模型，根据验证集表现调参"
   ]
  },
  {
   "cell_type": "code",
   "execution_count": 151,
   "id": "c4afad90",
   "metadata": {
    "ExecuteTime": {
     "end_time": "2022-05-09T12:36:12.588864Z",
     "start_time": "2022-05-09T12:36:12.575908Z"
    }
   },
   "outputs": [],
   "source": [
    "auc_train_X=X_train[no_believe_id]\n",
    "auc_train_y=y_train[no_believe_id]\n",
    "auc_valid_X=X_train[believe_id]\n",
    "auc_valid_y=y_train[believe_id]"
   ]
  },
  {
   "cell_type": "code",
   "execution_count": 153,
   "id": "77d24dc6",
   "metadata": {
    "ExecuteTime": {
     "end_time": "2022-05-09T12:36:27.599305Z",
     "start_time": "2022-05-09T12:36:27.582408Z"
    }
   },
   "outputs": [
    {
     "data": {
      "text/plain": [
       "array([0.175, 0.676, 0.633, ..., 0.005, 0.35 , 0.417])"
      ]
     },
     "execution_count": 153,
     "metadata": {},
     "output_type": "execute_result"
    }
   ],
   "source": [
    "y_train"
   ]
  },
  {
   "cell_type": "code",
   "execution_count": 155,
   "id": "c3af8bc4",
   "metadata": {
    "ExecuteTime": {
     "end_time": "2022-05-09T12:37:53.076678Z",
     "start_time": "2022-05-09T12:37:50.295232Z"
    }
   },
   "outputs": [
    {
     "data": {
      "text/plain": [
       "0.14309776955204306"
      ]
     },
     "execution_count": 155,
     "metadata": {},
     "output_type": "execute_result"
    }
   ],
   "source": [
    "from sklearn.ensemble import RandomForestClassifier,RandomForestRegressor\n",
    "model_lgb=RandomForestRegressor()\n",
    "model_lgb.fit(auc_train_X,auc_train_y)\n",
    "y_auc_test_pred=model_lgb.predict(auc_valid_X)\n",
    "mean_squared_error(y_auc_test_pred,auc_valid_y)"
   ]
  },
  {
   "cell_type": "code",
   "execution_count": 157,
   "id": "dcbb9101",
   "metadata": {
    "ExecuteTime": {
     "end_time": "2022-05-09T12:38:53.690122Z",
     "start_time": "2022-05-09T12:38:53.667415Z"
    }
   },
   "outputs": [],
   "source": [
    "result=model_lgb.predict(X_test)\n",
    "pd.DataFrame(result).to_csv('result_20220509.txt',index=False,header=False)# 得分：0.1401 真的线上线下超符合！！！！！！！"
   ]
  },
  {
   "cell_type": "markdown",
   "id": "c30b99e5",
   "metadata": {},
   "source": [
    "# 实验一下其他模型"
   ]
  },
  {
   "cell_type": "code",
   "execution_count": 166,
   "id": "2d239d7e",
   "metadata": {
    "ExecuteTime": {
     "end_time": "2022-05-09T13:34:58.591653Z",
     "start_time": "2022-05-09T13:34:58.336951Z"
    }
   },
   "outputs": [
    {
     "name": "stdout",
     "output_type": "stream",
     "text": [
      "训练集:  0.000896899237393862\n",
      "验证集:  0.15138862900004021\n"
     ]
    }
   ],
   "source": [
    "from xgboost import XGBRegressor\n",
    "model_lgb=XGBRegressor()\n",
    "model_lgb.fit(auc_train_X,auc_train_y)\n",
    "\n",
    "y_auc_test_pred=model_lgb.predict(auc_train_X)\n",
    "print('训练集: ',mean_squared_error(y_auc_test_pred,auc_train_y))\n",
    "\n",
    "y_auc_test_pred=model_lgb.predict(auc_valid_X)\n",
    "print('验证集: ',mean_squared_error(y_auc_test_pred,auc_valid_y))"
   ]
  },
  {
   "cell_type": "code",
   "execution_count": 165,
   "id": "7e37857e",
   "metadata": {
    "ExecuteTime": {
     "end_time": "2022-05-09T13:34:37.301943Z",
     "start_time": "2022-05-09T13:34:37.208670Z"
    }
   },
   "outputs": [
    {
     "name": "stdout",
     "output_type": "stream",
     "text": [
      "训练集:  0.015545593104977008\n",
      "验证集:  0.1384134149903684\n"
     ]
    }
   ],
   "source": [
    "from lightgbm import LGBMRegressor \n",
    "model_lgb=LGBMRegressor()\n",
    "model_lgb.fit(auc_train_X,auc_train_y)\n",
    "\n",
    "y_auc_test_pred=model_lgb.predict(auc_train_X)\n",
    "print('训练集: ',mean_squared_error(y_auc_test_pred,auc_train_y))\n",
    "\n",
    "y_auc_test_pred=model_lgb.predict(auc_valid_X)\n",
    "print('验证集: ',mean_squared_error(y_auc_test_pred,auc_valid_y))"
   ]
  },
  {
   "cell_type": "code",
   "execution_count": 162,
   "id": "817d7a43",
   "metadata": {
    "ExecuteTime": {
     "end_time": "2022-05-09T12:46:08.598155Z",
     "start_time": "2022-05-09T12:46:08.573716Z"
    }
   },
   "outputs": [],
   "source": [
    "result=model_lgb.predict(X_test)\n",
    "pd.DataFrame(result).to_csv('result_20220509_lgb.txt',index=False,header=False)"
   ]
  },
  {
   "cell_type": "code",
   "execution_count": 176,
   "id": "6f44c0ac",
   "metadata": {
    "ExecuteTime": {
     "end_time": "2022-05-09T15:05:42.645175Z",
     "start_time": "2022-05-09T15:05:42.627151Z"
    }
   },
   "outputs": [
    {
     "name": "stdout",
     "output_type": "stream",
     "text": [
      "训练集:  0.10318206927627373\n",
      "验证集:  0.13237079748896724\n"
     ]
    }
   ],
   "source": [
    "from sklearn.linear_model import LinearRegression\n",
    "model_lgb=LinearRegression()\n",
    "model_lgb.fit(auc_train_X,auc_train_y)\n",
    "\n",
    "y_auc_test_pred=model_lgb.predict(auc_train_X)\n",
    "print('训练集: ',mean_squared_error(y_auc_test_pred,auc_train_y))\n",
    "\n",
    "y_auc_test_pred=model_lgb.predict(auc_valid_X)\n",
    "print('验证集: ',mean_squared_error(y_auc_test_pred,auc_valid_y))"
   ]
  },
  {
   "cell_type": "code",
   "execution_count": 177,
   "id": "234720ec",
   "metadata": {
    "ExecuteTime": {
     "end_time": "2022-05-09T15:05:53.564530Z",
     "start_time": "2022-05-09T15:05:53.543129Z"
    }
   },
   "outputs": [],
   "source": [
    "result=model_lgb.predict(X_test)\n",
    "pd.DataFrame(result).to_csv('result_20220509_lr.txt',index=False,header=False)##3.1364 我是真搞不懂"
   ]
  },
  {
   "cell_type": "code",
   "execution_count": 175,
   "id": "c0af3e6b",
   "metadata": {
    "ExecuteTime": {
     "end_time": "2022-05-09T14:01:50.852642Z",
     "start_time": "2022-05-09T14:01:50.751222Z"
    },
    "scrolled": true
   },
   "outputs": [
    {
     "name": "stdout",
     "output_type": "stream",
     "text": [
      "[1]\tvalid_0's l2: 1.05169\n",
      "[2]\tvalid_0's l2: 0.894947\n",
      "[3]\tvalid_0's l2: 0.763378\n",
      "[4]\tvalid_0's l2: 0.65926\n",
      "[5]\tvalid_0's l2: 0.571761\n",
      "[6]\tvalid_0's l2: 0.50066\n",
      "[7]\tvalid_0's l2: 0.445419\n",
      "[8]\tvalid_0's l2: 0.395986\n",
      "[9]\tvalid_0's l2: 0.355604\n",
      "[10]\tvalid_0's l2: 0.320993\n",
      "[11]\tvalid_0's l2: 0.293195\n",
      "[12]\tvalid_0's l2: 0.268274\n",
      "[13]\tvalid_0's l2: 0.246927\n",
      "[14]\tvalid_0's l2: 0.230493\n",
      "[15]\tvalid_0's l2: 0.216695\n",
      "[16]\tvalid_0's l2: 0.206344\n",
      "[17]\tvalid_0's l2: 0.195174\n",
      "[18]\tvalid_0's l2: 0.187337\n",
      "[19]\tvalid_0's l2: 0.181637\n",
      "[20]\tvalid_0's l2: 0.174628\n",
      "[21]\tvalid_0's l2: 0.170468\n",
      "[22]\tvalid_0's l2: 0.166533\n",
      "[23]\tvalid_0's l2: 0.163482\n",
      "[24]\tvalid_0's l2: 0.160727\n",
      "[25]\tvalid_0's l2: 0.15852\n",
      "[26]\tvalid_0's l2: 0.155633\n",
      "[27]\tvalid_0's l2: 0.154749\n",
      "[28]\tvalid_0's l2: 0.153038\n",
      "[29]\tvalid_0's l2: 0.151363\n",
      "[30]\tvalid_0's l2: 0.150399\n",
      "[31]\tvalid_0's l2: 0.149783\n",
      "[32]\tvalid_0's l2: 0.149336\n",
      "[33]\tvalid_0's l2: 0.148393\n",
      "[34]\tvalid_0's l2: 0.14806\n",
      "[35]\tvalid_0's l2: 0.147731\n",
      "[36]\tvalid_0's l2: 0.146787\n",
      "[37]\tvalid_0's l2: 0.146758\n",
      "[38]\tvalid_0's l2: 0.146253\n",
      "[39]\tvalid_0's l2: 0.146047\n",
      "[40]\tvalid_0's l2: 0.145354\n",
      "[41]\tvalid_0's l2: 0.14522\n",
      "[42]\tvalid_0's l2: 0.144325\n",
      "[43]\tvalid_0's l2: 0.144113\n",
      "[44]\tvalid_0's l2: 0.143714\n",
      "[45]\tvalid_0's l2: 0.14338\n",
      "[46]\tvalid_0's l2: 0.143687\n",
      "[47]\tvalid_0's l2: 0.143445\n",
      "[48]\tvalid_0's l2: 0.142718\n",
      "[49]\tvalid_0's l2: 0.142211\n",
      "[50]\tvalid_0's l2: 0.141651\n",
      "[51]\tvalid_0's l2: 0.141133\n",
      "[52]\tvalid_0's l2: 0.141096\n",
      "[53]\tvalid_0's l2: 0.141021\n",
      "[54]\tvalid_0's l2: 0.140635\n",
      "[55]\tvalid_0's l2: 0.140331\n",
      "[56]\tvalid_0's l2: 0.140109\n",
      "[57]\tvalid_0's l2: 0.139938\n",
      "[58]\tvalid_0's l2: 0.13973\n",
      "[59]\tvalid_0's l2: 0.139648\n",
      "[60]\tvalid_0's l2: 0.139311\n",
      "[61]\tvalid_0's l2: 0.139631\n",
      "[62]\tvalid_0's l2: 0.139448\n",
      "[63]\tvalid_0's l2: 0.139503\n",
      "[64]\tvalid_0's l2: 0.139294\n",
      "[65]\tvalid_0's l2: 0.139078\n",
      "[66]\tvalid_0's l2: 0.139264\n",
      "[67]\tvalid_0's l2: 0.138963\n",
      "[68]\tvalid_0's l2: 0.138894\n",
      "[69]\tvalid_0's l2: 0.13881\n",
      "[70]\tvalid_0's l2: 0.138897\n",
      "[71]\tvalid_0's l2: 0.138837\n",
      "[72]\tvalid_0's l2: 0.138938\n",
      "[73]\tvalid_0's l2: 0.138885\n",
      "[74]\tvalid_0's l2: 0.138817\n",
      "[75]\tvalid_0's l2: 0.138689\n",
      "[76]\tvalid_0's l2: 0.138735\n",
      "[77]\tvalid_0's l2: 0.138562\n",
      "[78]\tvalid_0's l2: 0.138606\n",
      "[79]\tvalid_0's l2: 0.138588\n",
      "[80]\tvalid_0's l2: 0.138564\n",
      "[81]\tvalid_0's l2: 0.138576\n",
      "[82]\tvalid_0's l2: 0.138747\n",
      "[83]\tvalid_0's l2: 0.138675\n",
      "[84]\tvalid_0's l2: 0.138839\n",
      "[85]\tvalid_0's l2: 0.139006\n",
      "[86]\tvalid_0's l2: 0.138988\n",
      "[87]\tvalid_0's l2: 0.139118\n",
      "[88]\tvalid_0's l2: 0.139179\n",
      "[89]\tvalid_0's l2: 0.139156\n",
      "[90]\tvalid_0's l2: 0.139175\n",
      "[91]\tvalid_0's l2: 0.139173\n",
      "[92]\tvalid_0's l2: 0.139104\n",
      "[93]\tvalid_0's l2: 0.13913\n",
      "[94]\tvalid_0's l2: 0.139248\n",
      "[95]\tvalid_0's l2: 0.13923\n",
      "[96]\tvalid_0's l2: 0.139221\n",
      "[97]\tvalid_0's l2: 0.139428\n",
      "[98]\tvalid_0's l2: 0.139569\n",
      "[99]\tvalid_0's l2: 0.139554\n",
      "[100]\tvalid_0's l2: 0.139553\n",
      "训练集:  0.051451128045640566\n",
      "验证集:  0.13955256272472905\n"
     ]
    }
   ],
   "source": [
    "from lightgbm import LGBMRegressor \n",
    "model_lgb=LGBMRegressor()\n",
    "eval_set=[(auc_valid_X,auc_valid_y)]\n",
    "\n",
    "model_lgb.fit(auc_train_X,auc_train_y,sample_weight=y_train_pred[no_believe_id,1].reshape(-1),eval_set=eval_set)\n",
    "\n",
    "y_auc_test_pred=model_lgb.predict(auc_train_X)\n",
    "print('训练集: ',mean_squared_error(y_auc_test_pred,auc_train_y))\n",
    "\n",
    "y_auc_test_pred=model_lgb.predict(auc_valid_X)\n",
    "print('验证集: ',mean_squared_error(y_auc_test_pred,auc_valid_y))"
   ]
  },
  {
   "cell_type": "code",
   "execution_count": null,
   "id": "4d188f5a",
   "metadata": {},
   "outputs": [],
   "source": []
  }
 ],
 "metadata": {
  "kernelspec": {
   "display_name": "Python 3",
   "language": "python",
   "name": "python3"
  },
  "language_info": {
   "codemirror_mode": {
    "name": "ipython",
    "version": 3
   },
   "file_extension": ".py",
   "mimetype": "text/x-python",
   "name": "python",
   "nbconvert_exporter": "python",
   "pygments_lexer": "ipython3",
   "version": "3.8.8"
  },
  "toc": {
   "base_numbering": 1,
   "nav_menu": {},
   "number_sections": true,
   "sideBar": true,
   "skip_h1_title": false,
   "title_cell": "Table of Contents",
   "title_sidebar": "Contents",
   "toc_cell": false,
   "toc_position": {
    "height": "calc(100% - 180px)",
    "left": "10px",
    "top": "150px",
    "width": "303.837px"
   },
   "toc_section_display": true,
   "toc_window_display": true
  },
  "varInspector": {
   "cols": {
    "lenName": 16,
    "lenType": 16,
    "lenVar": 40
   },
   "kernels_config": {
    "python": {
     "delete_cmd_postfix": "",
     "delete_cmd_prefix": "del ",
     "library": "var_list.py",
     "varRefreshCmd": "print(var_dic_list())"
    },
    "r": {
     "delete_cmd_postfix": ") ",
     "delete_cmd_prefix": "rm(",
     "library": "var_list.r",
     "varRefreshCmd": "cat(var_dic_list()) "
    }
   },
   "types_to_exclude": [
    "module",
    "function",
    "builtin_function_or_method",
    "instance",
    "_Feature"
   ],
   "window_display": false
  }
 },
 "nbformat": 4,
 "nbformat_minor": 5
}
