{
 "cells": [
  {
   "cell_type": "code",
   "execution_count": 1,
   "id": "cd646293",
   "metadata": {
    "ExecuteTime": {
     "end_time": "2022-05-06T13:26:41.753589Z",
     "start_time": "2022-05-06T13:26:38.638975Z"
    }
   },
   "outputs": [],
   "source": [
    "import numpy as np\n",
    "import pandas as pd\n",
    "\n",
    "from sklearn.metrics import mean_squared_error\n",
    "from sklearn.model_selection import train_test_split,KFold\n",
    "import lightgbm as lgbm\n",
    "\n",
    "train=pd.read_csv(\"./data/zhengqi_train.txt\",sep='\\t')# V0-V37, target\n",
    "test=pd.read_csv(\"./data/zhengqi_test.txt\",sep='\\t')\n",
    "\n",
    "X=np.array(train.drop(['target'], axis = 1))#(2888, 38)\n",
    "y=np.array(train['target'])#(2888,)"
   ]
  },
  {
   "cell_type": "code",
   "execution_count": 2,
   "id": "0ac0b364",
   "metadata": {
    "ExecuteTime": {
     "end_time": "2022-05-06T13:26:43.637022Z",
     "start_time": "2022-05-06T13:26:43.616568Z"
    }
   },
   "outputs": [],
   "source": [
    "X_train, X_test, y_train, y_test = train_test_split(X, y, test_size=0.2, random_state=0)"
   ]
  },
  {
   "cell_type": "markdown",
   "id": "6c59801d",
   "metadata": {},
   "source": [
    "# 训练集和验证集切割训练"
   ]
  },
  {
   "cell_type": "code",
   "execution_count": 31,
   "id": "469710f6",
   "metadata": {
    "ExecuteTime": {
     "end_time": "2022-05-05T14:52:06.725061Z",
     "start_time": "2022-05-05T14:52:06.617230Z"
    }
   },
   "outputs": [
    {
     "name": "stdout",
     "output_type": "stream",
     "text": [
      "0.11877436844015696\n"
     ]
    }
   ],
   "source": [
    "lgb=LGBMRegressor()\n",
    "lgb.fit(X_train,y_train)\n",
    "y_pred_lgb=lgb.predict(X_test)\n",
    "print(mean_squared_error(y_test,y_pred_lgb))"
   ]
  },
  {
   "cell_type": "markdown",
   "id": "dbb50182",
   "metadata": {},
   "source": [
    "# 5折交叉验证"
   ]
  },
  {
   "cell_type": "code",
   "execution_count": 33,
   "id": "8b398b39",
   "metadata": {
    "ExecuteTime": {
     "end_time": "2022-05-05T14:52:39.848307Z",
     "start_time": "2022-05-05T14:52:39.497388Z"
    }
   },
   "outputs": [
    {
     "name": "stdout",
     "output_type": "stream",
     "text": [
      "0 th fold： 0.11373521701915587\n",
      "1 th fold： 0.11510770978164474\n",
      "2 th fold： 0.10923676670851053\n",
      "3 th fold： 0.11617842172445779\n",
      "4 th fold： 0.12505113289137243\n"
     ]
    }
   ],
   "source": [
    "folds=5\n",
    "\n",
    "best_score=10\n",
    "best_model=''\n",
    "\n",
    "kf=KFold(n_splits=folds,shuffle=True,random_state=2022)\n",
    "for i, (train_index,test_index) in enumerate(kf.split(X_train)):\n",
    "    lgb=lgbm.LGBMRegressor()\n",
    "    lgb.fit(X_train[train_index],y_train[train_index])\n",
    "    y_pred_lgb=lgb.predict(X_train[test_index])\n",
    "    score=mean_squared_error(y_pred_lgb,y_train[test_index])\n",
    "    print(i,'th fold：',score)\n",
    "    \n",
    "    if score<best_score:\n",
    "        best_score=score\n",
    "        best_model=lgb"
   ]
  },
  {
   "cell_type": "code",
   "execution_count": 34,
   "id": "a908708e",
   "metadata": {
    "ExecuteTime": {
     "end_time": "2022-05-05T14:52:59.551245Z",
     "start_time": "2022-05-05T14:52:59.535939Z"
    }
   },
   "outputs": [
    {
     "name": "stdout",
     "output_type": "stream",
     "text": [
      "0.12035009734616724\n"
     ]
    }
   ],
   "source": [
    "y_pred=best_model.predict(X_test)\n",
    "print(mean_squared_error(y_pred,y_test))"
   ]
  },
  {
   "cell_type": "markdown",
   "id": "f06b8390",
   "metadata": {
    "ExecuteTime": {
     "end_time": "2022-05-05T14:36:17.265314Z",
     "start_time": "2022-05-05T14:36:17.249449Z"
    }
   },
   "source": [
    "# 调参\n",
    "https://lightgbm.readthedocs.io/en/latest/pythonapi/lightgbm.LGBMModel.html#lightgbm.LGBMModel"
   ]
  },
  {
   "cell_type": "code",
   "execution_count": 3,
   "id": "222bdf9a",
   "metadata": {
    "ExecuteTime": {
     "end_time": "2022-05-06T13:26:49.821330Z",
     "start_time": "2022-05-06T13:26:49.457338Z"
    }
   },
   "outputs": [
    {
     "name": "stdout",
     "output_type": "stream",
     "text": [
      "0 th fold： 0.11373521701915587\n",
      "1 th fold： 0.11510770978164474\n",
      "2 th fold： 0.10923676670851053\n",
      "3 th fold： 0.11617842172445779\n",
      "4 th fold： 0.12505113289137243\n"
     ]
    }
   ],
   "source": [
    "folds=5\n",
    "\n",
    "avg_score=0\n",
    "\n",
    "kf=KFold(n_splits=folds,shuffle=True,random_state=2022)\n",
    "for i, (train_index,test_index) in enumerate(kf.split(X_train)):\n",
    "    lgb=LGBMRegressor()\n",
    "    lgb.fit(X_train[train_index],y_train[train_index])\n",
    "    y_pred_lgb=lgb.predict(X_train[test_index])\n",
    "    score=mean_squared_error(y_pred_lgb,y_train[test_index])\n",
    "    print(i,'th fold：',score)\n",
    "    \n",
    "    avg_score+=score\n",
    "avg_score/=folds\n",
    "print(avg_score)"
   ]
  },
  {
   "cell_type": "code",
   "execution_count": 31,
   "id": "02660817",
   "metadata": {
    "ExecuteTime": {
     "end_time": "2022-05-06T14:07:04.482135Z",
     "start_time": "2022-05-06T14:07:03.393389Z"
    }
   },
   "outputs": [
    {
     "name": "stderr",
     "output_type": "stream",
     "text": [
      "C:\\Users\\nanfe\\anaconda3\\lib\\site-packages\\lightgbm\\engine.py:577: UserWarning: 'early_stopping_rounds' argument is deprecated and will be removed in a future release of LightGBM. Pass 'early_stopping()' callback via 'callbacks' argument instead.\n",
      "  _log_warning(\"'early_stopping_rounds' argument is deprecated and will be removed in a future release of LightGBM. \"\n",
      "C:\\Users\\nanfe\\anaconda3\\lib\\site-packages\\lightgbm\\basic.py:1491: UserWarning: 'silent' argument is deprecated and will be removed in a future release of LightGBM. Pass 'verbose' parameter via 'params' instead.\n",
      "  _log_warning(\"'silent' argument is deprecated and will be removed in a future release of LightGBM. \"\n",
      "C:\\Users\\nanfe\\anaconda3\\lib\\site-packages\\lightgbm\\engine.py:620: UserWarning: 'verbose_eval' argument is deprecated and will be removed in a future release of LightGBM. Pass 'log_evaluation()' callback via 'callbacks' argument instead.\n",
      "  _log_warning(\"'verbose_eval' argument is deprecated and will be removed in a future release of LightGBM. \"\n"
     ]
    },
    {
     "name": "stdout",
     "output_type": "stream",
     "text": [
      "[LightGBM] [Warning] Auto-choosing col-wise multi-threading, the overhead of testing was 0.000818 seconds.\n",
      "You can set `force_col_wise=true` to remove the overhead.\n",
      "[LightGBM] [Info] Total Bins 8846\n",
      "[LightGBM] [Info] Number of data points in the train set: 1848, number of used features: 38\n",
      "[LightGBM] [Warning] Auto-choosing col-wise multi-threading, the overhead of testing was 0.000952 seconds.\n",
      "You can set `force_col_wise=true` to remove the overhead.\n",
      "[LightGBM] [Info] Total Bins 8846\n",
      "[LightGBM] [Info] Number of data points in the train set: 1848, number of used features: 38\n",
      "[LightGBM] [Warning] Auto-choosing col-wise multi-threading, the overhead of testing was 0.000747 seconds.\n",
      "You can set `force_col_wise=true` to remove the overhead.\n",
      "[LightGBM] [Info] Total Bins 8846\n",
      "[LightGBM] [Info] Number of data points in the train set: 1848, number of used features: 38\n",
      "[LightGBM] [Warning] Auto-choosing col-wise multi-threading, the overhead of testing was 0.000809 seconds.\n",
      "You can set `force_col_wise=true` to remove the overhead.\n",
      "[LightGBM] [Info] Total Bins 8846\n",
      "[LightGBM] [Info] Number of data points in the train set: 1848, number of used features: 38\n",
      "[LightGBM] [Warning] Auto-choosing col-wise multi-threading, the overhead of testing was 0.000772 seconds.\n",
      "You can set `force_col_wise=true` to remove the overhead.\n",
      "[LightGBM] [Info] Total Bins 8846\n",
      "[LightGBM] [Info] Number of data points in the train set: 1848, number of used features: 38\n",
      "[50]\tcv_agg's l2: 0.12867 + 0.0211331\n",
      "[100]\tcv_agg's l2: 0.115714 + 0.0187393\n",
      "[150]\tcv_agg's l2: 0.113271 + 0.0181276\n",
      "[200]\tcv_agg's l2: 0.111855 + 0.0175803\n",
      "[250]\tcv_agg's l2: 0.111161 + 0.0173523\n",
      "[300]\tcv_agg's l2: 0.110794 + 0.0171912\n",
      "[350]\tcv_agg's l2: 0.110536 + 0.0170559\n",
      "[400]\tcv_agg's l2: 0.110477 + 0.0170589\n",
      "[450]\tcv_agg's l2: 0.110442 + 0.0169805\n",
      "best n_estimators: 437\n",
      "best cv score: 0.11039529412190559\n"
     ]
    }
   ],
   "source": [
    "import lightgbm as lgb\n",
    "\n",
    "params = {\n",
    "    'boosting_type': 'gbdt', \n",
    "    'objective': 'regression', \n",
    "\n",
    "    'learning_rate': 0.05, \n",
    "    'num_leaves': 50, \n",
    "    'max_depth': 6,\n",
    "\n",
    "    'subsample': 0.8, \n",
    "    'colsample_bytree': 0.8, \n",
    "    }\n",
    "data_train = lgb.Dataset(X_train, y_train, silent=True)\n",
    "cv_results = lgb.cv(\n",
    "    params, data_train, num_boost_round=1000, nfold=5, stratified=False, shuffle=True, metrics='mse',\n",
    "    early_stopping_rounds=50, verbose_eval=50, show_stdv=True, seed=0)\n",
    "\n",
    "print('best n_estimators:', len(cv_results['l2-mean']))\n",
    "print('best cv score:', cv_results['l2-mean'][-1])"
   ]
  },
  {
   "cell_type": "code",
   "execution_count": null,
   "id": "8e431e3e",
   "metadata": {},
   "outputs": [],
   "source": [
    "学习率0.1\n",
    "best n_estimators: 275\n",
    "best cv score: 0.11385408762155265\n",
    "\n",
    "学习率0.05\n",
    "best n_estimators: 437\n",
    "best cv score: 0.11039529412190559\n",
    "    \n",
    "学习率0.01  \n",
    "best n_estimators: 1000\n",
    "best cv score: 0.11049402702546904\n",
    "\n",
    "学习率0.001\n",
    "best n_estimators: 1000\n",
    "best cv score: 0.2493478416675996"
   ]
  },
  {
   "cell_type": "code",
   "execution_count": 18,
   "id": "17fe1973",
   "metadata": {
    "ExecuteTime": {
     "end_time": "2022-05-06T14:00:47.373141Z",
     "start_time": "2022-05-06T14:00:47.355178Z"
    }
   },
   "outputs": [
    {
     "data": {
      "text/plain": [
       "{'l2-mean': [0.7988256772746004,\n",
       "  0.6776268007701285,\n",
       "  0.5773298476424196,\n",
       "  0.49456169425895274,\n",
       "  0.42731880283752366,\n",
       "  0.3729611081242603,\n",
       "  0.3285093737260629,\n",
       "  0.29193539339499985,\n",
       "  0.26245688535754014,\n",
       "  0.23771415558232242,\n",
       "  0.218636688460853,\n",
       "  0.20225707647356783,\n",
       "  0.1886267495106596,\n",
       "  0.17746210791308142,\n",
       "  0.1680618652979866,\n",
       "  0.16061931554440764,\n",
       "  0.1547800577482195,\n",
       "  0.1498498986851562,\n",
       "  0.1452945683419436,\n",
       "  0.1418347295414721,\n",
       "  0.13878056857974125,\n",
       "  0.1363963956426429,\n",
       "  0.13431647945336173,\n",
       "  0.13257801741861405,\n",
       "  0.1310400593997192,\n",
       "  0.12953417053267177,\n",
       "  0.12825323967929747,\n",
       "  0.12708174360270222,\n",
       "  0.12612896358927372,\n",
       "  0.12545388996737336,\n",
       "  0.1246469092028796,\n",
       "  0.12426023163147686,\n",
       "  0.12356388979542765,\n",
       "  0.12295269906499962,\n",
       "  0.1226273923480615,\n",
       "  0.12222259083624057,\n",
       "  0.12176237304094131,\n",
       "  0.12128749774011043,\n",
       "  0.12095361042597834,\n",
       "  0.12081953075488636,\n",
       "  0.12048703240264258,\n",
       "  0.12028838332561054,\n",
       "  0.12000330292785524,\n",
       "  0.11969707219641139,\n",
       "  0.11959732188903074,\n",
       "  0.1193405138667408,\n",
       "  0.11906309132465505,\n",
       "  0.11904174557473853,\n",
       "  0.11883174973629318,\n",
       "  0.11855069111063313,\n",
       "  0.11834385052129126,\n",
       "  0.11824300323257589,\n",
       "  0.11822825879991161,\n",
       "  0.11802553375580627,\n",
       "  0.1179176080963594,\n",
       "  0.11784717466949077,\n",
       "  0.1179065403003047,\n",
       "  0.11770439327127827,\n",
       "  0.11769755431103776,\n",
       "  0.11775376781207647,\n",
       "  0.11750300162755631,\n",
       "  0.11743524769633737,\n",
       "  0.11738464726600646,\n",
       "  0.117465089083988,\n",
       "  0.11753381052869458,\n",
       "  0.11745736529430384,\n",
       "  0.11733591976107283,\n",
       "  0.1171872813685799,\n",
       "  0.11718435609795921,\n",
       "  0.1170853311122785,\n",
       "  0.11698752058428794,\n",
       "  0.11686717711119347,\n",
       "  0.1167445057894309,\n",
       "  0.1166931201909593,\n",
       "  0.11654460073246134,\n",
       "  0.11645698443816406,\n",
       "  0.11630775845376584,\n",
       "  0.11614155129322586,\n",
       "  0.11613056087614167,\n",
       "  0.11605490026996979,\n",
       "  0.11602858281400627,\n",
       "  0.11599600687046471,\n",
       "  0.11593851409502987,\n",
       "  0.11591583422926406,\n",
       "  0.11591380610614674,\n",
       "  0.11588977898457069,\n",
       "  0.11588180678353929,\n",
       "  0.11586065272427429,\n",
       "  0.11584205364140057,\n",
       "  0.11587704362443478,\n",
       "  0.11581024859406193,\n",
       "  0.11581731398505282,\n",
       "  0.11579196636217981,\n",
       "  0.11567676672236737,\n",
       "  0.11558961574636503,\n",
       "  0.11565973212557319,\n",
       "  0.11565127997509665,\n",
       "  0.11563283800934676,\n",
       "  0.11552325744510297,\n",
       "  0.11542454938646722,\n",
       "  0.11538267438141252,\n",
       "  0.11533016532678271,\n",
       "  0.11533337840041942,\n",
       "  0.11531554752103623,\n",
       "  0.11539758130099453,\n",
       "  0.11534567994451769,\n",
       "  0.11534508868007469,\n",
       "  0.11529741084727789,\n",
       "  0.11528002797688153,\n",
       "  0.11521860623578364,\n",
       "  0.11518854469294075,\n",
       "  0.11516400539358829,\n",
       "  0.11511472269220009,\n",
       "  0.1150623224383257,\n",
       "  0.11508870003885133,\n",
       "  0.11498414760158185,\n",
       "  0.11493712983817642,\n",
       "  0.1148635986960834,\n",
       "  0.1148400239522688,\n",
       "  0.11482964969477945,\n",
       "  0.11478527879006166,\n",
       "  0.11466067907954436,\n",
       "  0.11466170518860834,\n",
       "  0.11465025672505633,\n",
       "  0.11470930561643311,\n",
       "  0.11478757669307701,\n",
       "  0.11479715116224021,\n",
       "  0.11472694300227726,\n",
       "  0.11473046083315745,\n",
       "  0.11471914680141877,\n",
       "  0.11471505753673661,\n",
       "  0.11477558904116299,\n",
       "  0.11479041025886831,\n",
       "  0.11480004561994132,\n",
       "  0.1147711756863972,\n",
       "  0.11469581606549277,\n",
       "  0.11466992283985586,\n",
       "  0.11460171102726806,\n",
       "  0.11460033041964719,\n",
       "  0.11458173172773903,\n",
       "  0.11462336889838594,\n",
       "  0.11460025275190906,\n",
       "  0.11457312085922114,\n",
       "  0.11450914564127228,\n",
       "  0.1144664877182537,\n",
       "  0.11460505715840405,\n",
       "  0.11451515833948692,\n",
       "  0.11448296542029654,\n",
       "  0.11443444027392449,\n",
       "  0.11443701637305011,\n",
       "  0.11440845690132946,\n",
       "  0.11441651404022173,\n",
       "  0.11439825469999454,\n",
       "  0.11435833408498286,\n",
       "  0.11437595205097402,\n",
       "  0.1143404897497486,\n",
       "  0.11435278430812634,\n",
       "  0.11436925254239254,\n",
       "  0.11432168507341811,\n",
       "  0.11436988859596002,\n",
       "  0.11442108405348654,\n",
       "  0.11445936811806337,\n",
       "  0.11442799441676806,\n",
       "  0.11435217409725836,\n",
       "  0.11435519502518425,\n",
       "  0.11435170539076993,\n",
       "  0.1143371598832228,\n",
       "  0.11431983411910973,\n",
       "  0.11431265676036546,\n",
       "  0.11428653442107026,\n",
       "  0.11426310815482002,\n",
       "  0.1142264082596784,\n",
       "  0.11428268170200291,\n",
       "  0.11427435328477635,\n",
       "  0.1143356430552617,\n",
       "  0.11437718321743665,\n",
       "  0.11434511129913509,\n",
       "  0.11437022650939846,\n",
       "  0.11435720925963164,\n",
       "  0.11439519776258364,\n",
       "  0.1143803413709962,\n",
       "  0.11436914235356284,\n",
       "  0.11438749322247946,\n",
       "  0.11435877053701864,\n",
       "  0.1142978521171127,\n",
       "  0.11426258657553019,\n",
       "  0.11423959277902644,\n",
       "  0.11419666227851999,\n",
       "  0.11420142411734502,\n",
       "  0.1142298076480202,\n",
       "  0.11424127970949846,\n",
       "  0.1142160768357948,\n",
       "  0.1142482389853076,\n",
       "  0.11419923319654654,\n",
       "  0.11424264925692859,\n",
       "  0.11424696248459394,\n",
       "  0.11421572428846767,\n",
       "  0.11420409035814902,\n",
       "  0.11418628832502617,\n",
       "  0.11408589335729687,\n",
       "  0.11409379006282769,\n",
       "  0.11409860911019946,\n",
       "  0.11411027191455887,\n",
       "  0.11411030358265215,\n",
       "  0.11410875160422432,\n",
       "  0.11410020256159266,\n",
       "  0.11411799911457932,\n",
       "  0.1140837007295524,\n",
       "  0.11407644728295482,\n",
       "  0.11405776156984349,\n",
       "  0.11407795206305227,\n",
       "  0.11402863456678962,\n",
       "  0.11400612411567548,\n",
       "  0.11395683109276411,\n",
       "  0.1139336232464893,\n",
       "  0.11393468124418334,\n",
       "  0.1139708242344774,\n",
       "  0.11398115406126282,\n",
       "  0.11396353993137395,\n",
       "  0.11393983247123744,\n",
       "  0.11393407583903699,\n",
       "  0.11396312503007917,\n",
       "  0.11392839799868389,\n",
       "  0.1139224190097532,\n",
       "  0.11389927312267914,\n",
       "  0.11386161852794677,\n",
       "  0.11389057029640082,\n",
       "  0.11390283789160294,\n",
       "  0.11390040728692388,\n",
       "  0.11391737750451744,\n",
       "  0.11391916243138392,\n",
       "  0.11393633699528587,\n",
       "  0.11396344206633562,\n",
       "  0.11393609810500334,\n",
       "  0.11390314873603483,\n",
       "  0.1138871748690351,\n",
       "  0.11389679273034878,\n",
       "  0.11391968413382589,\n",
       "  0.11393743815429591,\n",
       "  0.11392844033068265,\n",
       "  0.11392749621123673,\n",
       "  0.11393246199459262,\n",
       "  0.11394687397069854,\n",
       "  0.11395100339539736,\n",
       "  0.11394850507845762,\n",
       "  0.11394685640896329,\n",
       "  0.11390063928651095,\n",
       "  0.11389606912099488,\n",
       "  0.11392919904637047,\n",
       "  0.11389603798719898,\n",
       "  0.11387206721639942,\n",
       "  0.11385966744379172,\n",
       "  0.11386751605765551,\n",
       "  0.1138585162171869,\n",
       "  0.11388290630385897,\n",
       "  0.11389798738978134,\n",
       "  0.11389151275403023,\n",
       "  0.11391950239607115,\n",
       "  0.11392743348028608,\n",
       "  0.1139281164171682,\n",
       "  0.11392141975464778,\n",
       "  0.11393203155679406,\n",
       "  0.11390198456524266,\n",
       "  0.11392366562590442,\n",
       "  0.11390707490559951,\n",
       "  0.11391898256482628,\n",
       "  0.11394941818591706,\n",
       "  0.11395656755356579,\n",
       "  0.1139358907559663,\n",
       "  0.1139217806898144,\n",
       "  0.11392766839338268,\n",
       "  0.1139146096242134,\n",
       "  0.11391071201496797,\n",
       "  0.11388728922688732,\n",
       "  0.11385408762155265],\n",
       " 'l2-stdv': [0.06351737480195267,\n",
       "  0.055660416212100106,\n",
       "  0.048674751910746265,\n",
       "  0.04352916704412874,\n",
       "  0.03991968243940319,\n",
       "  0.03658293612594801,\n",
       "  0.03318022313357456,\n",
       "  0.03059022022744446,\n",
       "  0.028431016573915377,\n",
       "  0.026690392553154963,\n",
       "  0.026200430728347445,\n",
       "  0.025627476079695014,\n",
       "  0.025309190342144055,\n",
       "  0.024537732733357572,\n",
       "  0.02431937535486126,\n",
       "  0.023454057944293734,\n",
       "  0.022636371570492995,\n",
       "  0.022467496648143553,\n",
       "  0.02194379286792132,\n",
       "  0.021567326580237123,\n",
       "  0.021371047791712214,\n",
       "  0.021264139218686355,\n",
       "  0.020973165803469026,\n",
       "  0.02092443517020654,\n",
       "  0.02076018078484691,\n",
       "  0.020570146308275895,\n",
       "  0.020205398889454124,\n",
       "  0.0198646494070568,\n",
       "  0.01975850063669419,\n",
       "  0.019580717138755217,\n",
       "  0.019364059776551097,\n",
       "  0.019002865846219574,\n",
       "  0.01876379050572579,\n",
       "  0.018651008204181294,\n",
       "  0.018586207079930542,\n",
       "  0.018313936644519507,\n",
       "  0.018247363715905622,\n",
       "  0.01832727651641862,\n",
       "  0.01823946483339309,\n",
       "  0.018183114073165953,\n",
       "  0.017984410072745177,\n",
       "  0.017906606328547306,\n",
       "  0.01807170413989374,\n",
       "  0.018037861920798464,\n",
       "  0.018275920173452347,\n",
       "  0.018319856178166637,\n",
       "  0.01827547151374688,\n",
       "  0.018037147810396954,\n",
       "  0.01809746678867216,\n",
       "  0.017962436526013623,\n",
       "  0.018018223886819642,\n",
       "  0.01793244591339856,\n",
       "  0.017910632867027754,\n",
       "  0.017823653096857506,\n",
       "  0.017756402960034882,\n",
       "  0.017698870726808084,\n",
       "  0.01776444759710337,\n",
       "  0.017752265508868603,\n",
       "  0.017708449644430236,\n",
       "  0.017776679139646395,\n",
       "  0.017627109421333526,\n",
       "  0.017661202449016193,\n",
       "  0.017693892403404445,\n",
       "  0.01760505343970507,\n",
       "  0.017466257831848873,\n",
       "  0.01746244691313354,\n",
       "  0.017462784868692797,\n",
       "  0.017473555676770794,\n",
       "  0.017492790670903837,\n",
       "  0.017442808335575936,\n",
       "  0.01739335537177244,\n",
       "  0.017345279010920332,\n",
       "  0.01727432969374705,\n",
       "  0.0172697891254877,\n",
       "  0.017303446664116397,\n",
       "  0.017330481269113625,\n",
       "  0.017258095282832533,\n",
       "  0.017239599178344292,\n",
       "  0.017248696650649344,\n",
       "  0.01718058733610153,\n",
       "  0.01709983552300405,\n",
       "  0.017083209589753047,\n",
       "  0.017047300914375615,\n",
       "  0.01708358825922607,\n",
       "  0.017070494498042023,\n",
       "  0.017111154225573393,\n",
       "  0.01710383861843833,\n",
       "  0.01720351452852432,\n",
       "  0.017194829634968968,\n",
       "  0.017249079646342286,\n",
       "  0.017348130644417863,\n",
       "  0.017299285920331482,\n",
       "  0.017315262580338196,\n",
       "  0.017234528901225694,\n",
       "  0.017211891321564338,\n",
       "  0.017175861480574345,\n",
       "  0.017158368760644974,\n",
       "  0.017199894888372723,\n",
       "  0.017206628279895903,\n",
       "  0.017112824038973275,\n",
       "  0.017120138664159987,\n",
       "  0.017203528039381844,\n",
       "  0.017213298001632307,\n",
       "  0.01721690336108626,\n",
       "  0.01726388706461102,\n",
       "  0.017204874716424234,\n",
       "  0.017208578452333145,\n",
       "  0.017191962495002128,\n",
       "  0.017160404458201325,\n",
       "  0.017216290245130623,\n",
       "  0.017270908281666063,\n",
       "  0.017228036024351596,\n",
       "  0.017175339148866396,\n",
       "  0.017160916415785137,\n",
       "  0.017177524482694884,\n",
       "  0.01718005697797702,\n",
       "  0.017248158381115597,\n",
       "  0.01719751788853521,\n",
       "  0.01719531076951183,\n",
       "  0.017266075389026185,\n",
       "  0.01720792474281038,\n",
       "  0.017042485516002282,\n",
       "  0.01698413224043522,\n",
       "  0.017004069799033412,\n",
       "  0.01716156990131101,\n",
       "  0.017224494730322407,\n",
       "  0.01713926748489809,\n",
       "  0.0171756067481323,\n",
       "  0.01722865652745688,\n",
       "  0.01719518864261624,\n",
       "  0.01714741061697616,\n",
       "  0.017180069374653845,\n",
       "  0.017199837882309676,\n",
       "  0.017159543453108047,\n",
       "  0.017192188368840795,\n",
       "  0.017115619358823952,\n",
       "  0.017080173134481104,\n",
       "  0.017014513597893847,\n",
       "  0.01702669507710661,\n",
       "  0.01704198094420345,\n",
       "  0.017023840540270084,\n",
       "  0.01695044835385036,\n",
       "  0.016933674579711327,\n",
       "  0.016884510192271815,\n",
       "  0.0168575043723429,\n",
       "  0.016864136774137933,\n",
       "  0.016857526938794356,\n",
       "  0.016820747168003282,\n",
       "  0.016849637733691695,\n",
       "  0.016836703013763336,\n",
       "  0.016900474436366306,\n",
       "  0.01691990817028933,\n",
       "  0.016939207831378367,\n",
       "  0.016950937364943155,\n",
       "  0.016910514643528985,\n",
       "  0.016891179613358075,\n",
       "  0.016947904888863587,\n",
       "  0.0169751015901945,\n",
       "  0.01692502960850351,\n",
       "  0.016914731407238242,\n",
       "  0.016882241956381917,\n",
       "  0.016879751136161296,\n",
       "  0.01684723117851647,\n",
       "  0.016810947528912375,\n",
       "  0.016771417652892168,\n",
       "  0.016769525294278772,\n",
       "  0.01674230235856065,\n",
       "  0.016682616253802414,\n",
       "  0.0166687215336598,\n",
       "  0.016605139576441955,\n",
       "  0.01658682412427043,\n",
       "  0.016570594676085054,\n",
       "  0.016611756475875965,\n",
       "  0.016661567581461346,\n",
       "  0.016619072007380616,\n",
       "  0.016606838781677354,\n",
       "  0.01659515268743664,\n",
       "  0.016567214975980606,\n",
       "  0.016558599089196702,\n",
       "  0.016599324502539415,\n",
       "  0.01654226246059236,\n",
       "  0.016532837887646278,\n",
       "  0.016499538537667096,\n",
       "  0.01649819300824193,\n",
       "  0.016459351839805063,\n",
       "  0.01647753593691563,\n",
       "  0.016466965850117747,\n",
       "  0.01644345448578304,\n",
       "  0.0164814551183464,\n",
       "  0.016498706546193353,\n",
       "  0.016502815207519877,\n",
       "  0.01642582414402912,\n",
       "  0.016467848865378144,\n",
       "  0.016487567057179697,\n",
       "  0.016409970299527895,\n",
       "  0.016442329179948065,\n",
       "  0.016438257904203623,\n",
       "  0.016421053388898394,\n",
       "  0.016400457380916906,\n",
       "  0.016371724875554952,\n",
       "  0.016392978995504254,\n",
       "  0.01638287091690149,\n",
       "  0.01634667340254044,\n",
       "  0.016401988390790555,\n",
       "  0.016410957818148886,\n",
       "  0.016394144057456126,\n",
       "  0.01641118849148129,\n",
       "  0.016402365826180192,\n",
       "  0.016433406968461125,\n",
       "  0.016460999106699757,\n",
       "  0.016473514657317022,\n",
       "  0.01644404682630598,\n",
       "  0.01641842492595544,\n",
       "  0.01646134513324737,\n",
       "  0.016442927323008782,\n",
       "  0.016454313321118474,\n",
       "  0.016473890272396444,\n",
       "  0.01650437580161654,\n",
       "  0.016480134185326234,\n",
       "  0.016503287453316775,\n",
       "  0.01651462050691889,\n",
       "  0.016509648699805472,\n",
       "  0.016496735750975707,\n",
       "  0.01647241412014289,\n",
       "  0.01646206641752914,\n",
       "  0.016422287050606207,\n",
       "  0.01640154374380332,\n",
       "  0.016418508164605515,\n",
       "  0.016420167173982553,\n",
       "  0.016422708682116847,\n",
       "  0.016423313016177686,\n",
       "  0.01641794087190954,\n",
       "  0.016411305150332147,\n",
       "  0.016380175171676153,\n",
       "  0.016342251307488617,\n",
       "  0.016324640063184598,\n",
       "  0.016339568130286294,\n",
       "  0.016368122535825848,\n",
       "  0.016403872362851575,\n",
       "  0.01641044216990808,\n",
       "  0.016406394678384905,\n",
       "  0.016447456962239357,\n",
       "  0.01645408138581402,\n",
       "  0.016451284764608266,\n",
       "  0.01643147128274331,\n",
       "  0.016440118525411305,\n",
       "  0.01639047389677992,\n",
       "  0.016387671856547534,\n",
       "  0.016369169966797006,\n",
       "  0.016379770715596393,\n",
       "  0.016364971293745853,\n",
       "  0.016367633672678676,\n",
       "  0.016362458616629265,\n",
       "  0.01637493644291265,\n",
       "  0.01641202601881365,\n",
       "  0.01640456097314618,\n",
       "  0.01641551893961595,\n",
       "  0.016439766520310983,\n",
       "  0.016440064090148934,\n",
       "  0.01643168697234199,\n",
       "  0.01641470528138022,\n",
       "  0.01639660446013414,\n",
       "  0.016382593737546358,\n",
       "  0.016364215950792373,\n",
       "  0.01633004235800899,\n",
       "  0.016325909332802792,\n",
       "  0.0163189270048516,\n",
       "  0.016327188611176695,\n",
       "  0.016327474805327886,\n",
       "  0.0162954948019333,\n",
       "  0.016295680950681634,\n",
       "  0.01629058993957754,\n",
       "  0.016307724950968383,\n",
       "  0.016320087698278755,\n",
       "  0.016329301248711646]}"
      ]
     },
     "execution_count": 18,
     "metadata": {},
     "output_type": "execute_result"
    }
   ],
   "source": [
    "cv_results"
   ]
  },
  {
   "cell_type": "code",
   "execution_count": 45,
   "id": "898333ad",
   "metadata": {
    "ExecuteTime": {
     "end_time": "2022-05-06T14:23:27.980778Z",
     "start_time": "2022-05-06T14:23:25.424523Z"
    }
   },
   "outputs": [
    {
     "name": "stdout",
     "output_type": "stream",
     "text": [
      "Fitting 5 folds for each of 12 candidates, totalling 60 fits\n"
     ]
    },
    {
     "data": {
      "text/plain": [
       "GridSearchCV(cv=5,\n",
       "             estimator=LGBMRegressor(bagging_fraction=0.8, feature_fraction=0.8,\n",
       "                                     learning_rate=0.05, max_depth=6,\n",
       "                                     metric='mse', n_estimators=437,\n",
       "                                     num_leaves=50, objective='regression'),\n",
       "             n_jobs=4,\n",
       "             param_grid={'max_depth': range(2, 6),\n",
       "                         'num_leaves': range(10, 40, 10)},\n",
       "             scoring='neg_mean_squared_error', verbose=1)"
      ]
     },
     "execution_count": 45,
     "metadata": {},
     "output_type": "execute_result"
    }
   ],
   "source": [
    "from sklearn.model_selection import GridSearchCV\n",
    "### 我们可以创建lgb的sklearn模型，使用上面选择的(学习率，评估器数目)\n",
    "model_lgb = lgb.LGBMRegressor(objective='regression',num_leaves=20,\n",
    "                              learning_rate=0.05, n_estimators=437, max_depth=4,\n",
    "                              metric='mse', bagging_fraction = 0.8,feature_fraction = 0.8)\n",
    "\n",
    "params_test1={\n",
    "    'max_depth': range(2,6,1),\n",
    "    'num_leaves':range(10, 40, 10)\n",
    "}\n",
    "gsearch1 = GridSearchCV(estimator=model_lgb, param_grid=params_test1, scoring='neg_mean_squared_error', cv=5, verbose=1, n_jobs=4)\n",
    "gsearch1.fit(X_train,y_train)"
   ]
  },
  {
   "cell_type": "code",
   "execution_count": 48,
   "id": "fcc88678",
   "metadata": {
    "ExecuteTime": {
     "end_time": "2022-05-06T14:31:24.430457Z",
     "start_time": "2022-05-06T14:31:24.411682Z"
    }
   },
   "outputs": [
    {
     "data": {
      "text/plain": [
       "0.11329909575580044"
      ]
     },
     "execution_count": 48,
     "metadata": {},
     "output_type": "execute_result"
    }
   ],
   "source": [
    "mean_squared_error(gsearch1.predict(X_test),y_test)"
   ]
  },
  {
   "cell_type": "code",
   "execution_count": 46,
   "id": "d6d90b86",
   "metadata": {
    "ExecuteTime": {
     "end_time": "2022-05-06T14:23:37.276403Z",
     "start_time": "2022-05-06T14:23:37.256182Z"
    }
   },
   "outputs": [
    {
     "data": {
      "text/plain": [
       "{'max_depth': 4, 'num_leaves': 20}"
      ]
     },
     "execution_count": 46,
     "metadata": {},
     "output_type": "execute_result"
    }
   ],
   "source": [
    "gsearch1.best_params_#, gsearch1.best_score_"
   ]
  },
  {
   "cell_type": "code",
   "execution_count": 47,
   "id": "6098cddc",
   "metadata": {
    "ExecuteTime": {
     "end_time": "2022-05-06T14:23:49.427983Z",
     "start_time": "2022-05-06T14:23:49.412030Z"
    }
   },
   "outputs": [
    {
     "data": {
      "text/plain": [
       "-0.10901238341539951"
      ]
     },
     "execution_count": 47,
     "metadata": {},
     "output_type": "execute_result"
    }
   ],
   "source": [
    "gsearch1.best_score_"
   ]
  },
  {
   "cell_type": "code",
   "execution_count": 43,
   "id": "a735066a",
   "metadata": {
    "ExecuteTime": {
     "end_time": "2022-05-06T14:21:24.850384Z",
     "start_time": "2022-05-06T14:21:24.833266Z"
    }
   },
   "outputs": [
    {
     "data": {
      "text/plain": [
       "{'max_depth': 4, 'num_leaves': 30}"
      ]
     },
     "execution_count": 43,
     "metadata": {},
     "output_type": "execute_result"
    }
   ],
   "source": [
    "gsearch1.best_params_#, gsearch1.best_score_"
   ]
  },
  {
   "cell_type": "code",
   "execution_count": 44,
   "id": "dc940290",
   "metadata": {
    "ExecuteTime": {
     "end_time": "2022-05-06T14:21:40.914505Z",
     "start_time": "2022-05-06T14:21:40.898594Z"
    }
   },
   "outputs": [
    {
     "data": {
      "text/plain": [
       "-0.10901238341539951"
      ]
     },
     "execution_count": 44,
     "metadata": {},
     "output_type": "execute_result"
    }
   ],
   "source": [
    "gsearch1.best_score_"
   ]
  },
  {
   "cell_type": "code",
   "execution_count": 40,
   "id": "3d37c691",
   "metadata": {
    "ExecuteTime": {
     "end_time": "2022-05-06T14:17:42.580310Z",
     "start_time": "2022-05-06T14:17:42.564229Z"
    }
   },
   "outputs": [
    {
     "data": {
      "text/plain": [
       "{'max_depth': 5, 'num_leaves': 50}"
      ]
     },
     "execution_count": 40,
     "metadata": {},
     "output_type": "execute_result"
    }
   ],
   "source": [
    "gsearch1.best_params_#, gsearch1.best_score_"
   ]
  },
  {
   "cell_type": "code",
   "execution_count": 41,
   "id": "e0cb9950",
   "metadata": {
    "ExecuteTime": {
     "end_time": "2022-05-06T14:17:58.317615Z",
     "start_time": "2022-05-06T14:17:58.309529Z"
    }
   },
   "outputs": [
    {
     "data": {
      "text/plain": [
       "-0.10994185181640681"
      ]
     },
     "execution_count": 41,
     "metadata": {},
     "output_type": "execute_result"
    }
   ],
   "source": [
    "gsearch1.best_score_"
   ]
  },
  {
   "cell_type": "code",
   "execution_count": 7,
   "id": "7d7a4bed",
   "metadata": {
    "ExecuteTime": {
     "end_time": "2022-05-06T13:35:23.037792Z",
     "start_time": "2022-05-06T13:35:23.024837Z"
    }
   },
   "outputs": [
    {
     "data": {
      "text/plain": [
       "array([123, 112, 122, 188,  59,  70,  61,  76,  60,  37, 172,  65,  87,\n",
       "        59, 103,  53,  83,  38,  82,  77,  90,  69,  44,  54,  81,  92,\n",
       "        80,  77,  62,  48, 104,  61,  82,  47,  53,  17, 119,  93])"
      ]
     },
     "execution_count": 7,
     "metadata": {},
     "output_type": "execute_result"
    }
   ],
   "source": [
    "lgb.feature_importances_# 5 9 11 17 22 28 @70 37 65 38 44 62"
   ]
  },
  {
   "cell_type": "code",
   "execution_count": 12,
   "id": "40ba85da",
   "metadata": {
    "ExecuteTime": {
     "end_time": "2022-05-06T13:52:14.064264Z",
     "start_time": "2022-05-06T13:52:14.050238Z"
    }
   },
   "outputs": [
    {
     "data": {
      "text/plain": [
       "'regression'"
      ]
     },
     "execution_count": 12,
     "metadata": {},
     "output_type": "execute_result"
    }
   ],
   "source": [
    "lgb.objective_"
   ]
  },
  {
   "cell_type": "code",
   "execution_count": 10,
   "id": "be320650",
   "metadata": {
    "ExecuteTime": {
     "end_time": "2022-05-06T13:51:31.616893Z",
     "start_time": "2022-05-06T13:51:31.597916Z"
    }
   },
   "outputs": [
    {
     "data": {
      "text/plain": [
       "38"
      ]
     },
     "execution_count": 10,
     "metadata": {},
     "output_type": "execute_result"
    }
   ],
   "source": [
    "lgb.n_features_"
   ]
  },
  {
   "cell_type": "code",
   "execution_count": 14,
   "id": "783e16aa",
   "metadata": {
    "ExecuteTime": {
     "end_time": "2022-05-06T13:53:04.585786Z",
     "start_time": "2022-05-06T13:53:04.577813Z"
    }
   },
   "outputs": [
    {
     "data": {
      "text/plain": [
       "defaultdict(collections.OrderedDict, {})"
      ]
     },
     "execution_count": 14,
     "metadata": {},
     "output_type": "execute_result"
    }
   ],
   "source": [
    "lgb.best_score_"
   ]
  },
  {
   "cell_type": "code",
   "execution_count": null,
   "id": "cb0c7bff",
   "metadata": {},
   "outputs": [],
   "source": []
  }
 ],
 "metadata": {
  "kernelspec": {
   "display_name": "Python 3",
   "language": "python",
   "name": "python3"
  },
  "language_info": {
   "codemirror_mode": {
    "name": "ipython",
    "version": 3
   },
   "file_extension": ".py",
   "mimetype": "text/x-python",
   "name": "python",
   "nbconvert_exporter": "python",
   "pygments_lexer": "ipython3",
   "version": "3.8.8"
  },
  "toc": {
   "base_numbering": 1,
   "nav_menu": {},
   "number_sections": true,
   "sideBar": true,
   "skip_h1_title": false,
   "title_cell": "Table of Contents",
   "title_sidebar": "Contents",
   "toc_cell": false,
   "toc_position": {},
   "toc_section_display": true,
   "toc_window_display": false
  },
  "varInspector": {
   "cols": {
    "lenName": 16,
    "lenType": 16,
    "lenVar": 40
   },
   "kernels_config": {
    "python": {
     "delete_cmd_postfix": "",
     "delete_cmd_prefix": "del ",
     "library": "var_list.py",
     "varRefreshCmd": "print(var_dic_list())"
    },
    "r": {
     "delete_cmd_postfix": ") ",
     "delete_cmd_prefix": "rm(",
     "library": "var_list.r",
     "varRefreshCmd": "cat(var_dic_list()) "
    }
   },
   "types_to_exclude": [
    "module",
    "function",
    "builtin_function_or_method",
    "instance",
    "_Feature"
   ],
   "window_display": false
  }
 },
 "nbformat": 4,
 "nbformat_minor": 5
}
